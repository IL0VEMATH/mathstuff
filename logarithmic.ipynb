{
 "cells": [
  {
   "cell_type": "markdown",
   "metadata": {},
   "source": [
    "# Topic 7: Logarithmic and exponential function"
   ]
  },
  {
   "cell_type": "code",
   "execution_count": 2,
   "metadata": {},
   "outputs": [],
   "source": [
    "import numpy as np\n",
    "import math\n",
    "import matplotlib.pyplot as plt"
   ]
  },
  {
   "cell_type": "markdown",
   "metadata": {},
   "source": [
    "### 一、考纲要求："
   ]
  },
  {
   "cell_type": "markdown",
   "metadata": {},
   "source": [
    "(1) know simple properties and graphs of the logarithmic and exponential functions including $ln(x)$ and $e^x$ (series expansions are not required); \n",
    "\n",
    "\n"
   ]
  },
  {
   "cell_type": "code",
   "execution_count": 8,
   "metadata": {},
   "outputs": [
    {
     "data": {
      "image/png": "[encoded data removed]",
      "text/plain": [
       "<Figure size 432x288 with 2 Axes>"
      ]
     },
     "metadata": {
      "needs_background": "light"
     },
     "output_type": "display_data"
    }
   ],
   "source": [
    "x = np.arange(-10, 10, 0.01)\n",
    "x2 = np.arange(0.01, 10.01, 0.01)\n",
    "y = [] \n",
    "z = []\n",
    "for i in range(2000):\n",
    "    y.append(math.exp(x[i]))\n",
    "plt.subplot(1, 2, 1)\n",
    "plt.axis([-10, 5, 0, 10])\n",
    "plt.plot(x, y)\n",
    "for i in range(1000):\n",
    "    z.append(math.log(x2[i]))\n",
    "plt.subplot(1, 2, 2)\n",
    "plt.axis([0, 10, -10, 5])\n",
    "plt.plot(x2, z)\n",
    "plt.show()"
   ]
  },
  {
   "cell_type": "markdown",
   "metadata": {},
   "source": [
    "$\\qquad \\quad f(x) = e^x \\qquad \\qquad \\qquad \\quad f(x) = ln(x)$ <br> <br>\n",
    "$\\qquad \\quad -\\infty < x < \\infty \\qquad \\qquad \\qquad  0 < x < \\infty$ <br> <br>\n",
    "$\\qquad \\quad 0 < y < \\infty \\qquad \\qquad \\qquad  -\\infty < y < \\infty)$ <br> <br>\n",
    "$\\qquad \\quad f(0) = 1 \\qquad \\qquad \\qquad \\quad f(1) = 0$ <br> <br>\n",
    "\n",
    "(2) know and use the laws of logarithms (including change of base of logarithms);\n",
    "\n",
    "(3) solve equations of the form $a^x = b$"
   ]
  },
  {
   "cell_type": "markdown",
   "metadata": {},
   "source": [
    "### 二、知识点回顾："
   ]
  },
  {
   "cell_type": "markdown",
   "metadata": {},
   "source": [
    "(1)  $y = m^x$ is written as $log_my = x$ <br>\n",
    "(2)  **Laws of logarithms** <br>\n",
    "> $log_mab = log_ma + log_mb$ <br>\n",
    "$log_m\\frac{a}{b} = log_ma - log_mb$ <br>\n",
    "$log_m(a^n) = nlog_ma$ <br>\n",
    "$log_{m^n}a = \\frac{1}{n}log_ma \\Leftrightarrow nlog_{m^n}a = log_ma$ <br>\n",
    "\n",
    "(3)  **Change of base** <br>\n",
    "> $log_ba = \\frac{log_ca}{log_cb}$ <br>\n",
    "\n",
    "(4)  **Use logarithms to solve equations** <br>\n",
    "> $y = a^x \\Leftrightarrow x = log_ay$ <br>\n",
    "\n",
    "(5) $log_{10}(x) = lg(x), log_e(x) = ln(x)$ <br>\n",
    "(6) $a^0 = 1, log_a(1) = 0$"
   ]
  },
  {
   "cell_type": "markdown",
   "metadata": {},
   "source": [
    "### 三、对数函数题型：\n"
   ]
  },
  {
   "cell_type": "markdown",
   "metadata": {},
   "source": [
    "(a) $log_ma \\pm log_mb = log_mc$ <br>\n",
    "(b) $log_ma \\pm log_{m^k}b = log_mc$ <br>\n",
    "(c) $log_ma \\pm log_nb = log_mc$ <br>\n",
    "(d) $log_ma \\pm log_mb = k$ <br>"
   ]
  },
  {
   "cell_type": "markdown",
   "metadata": {},
   "source": [
    "**Laws of logarithms Proofs** <br>\n",
    "(1) $log_mab = log_ma + log_mb$ <br>\n",
    "> let $log_ma = x, log_mb = y$, then $log_mab = log_m(m^xm^y) = log_m(m^{x+y}) = x + y = log_ma + log_mb$ \n",
    "\n",
    "\n",
    "(2) $log_m\\frac{a}{b} = log_ma - log_mb$ <br>\n",
    "> $log_m\\frac{a}{b} = log_ma\\frac{1}{b} = log_ma + log_m\\frac{1}{b} = log_ma + log_mb^{-1} = log_ma - log_mb$\n",
    "\n",
    "(3) $log_m(a^n) = nlog_ma$ <br>\n",
    "> $log_m(a^n) = log_m(a \\times ... \\times a) = log_ma + ... + log_ma = nlog_ma$\n",
    "\n",
    "(4) $log_{m^n}a = \\frac{1}{n}log_ma \\Leftrightarrow nlog_{m^n}a = log_ma$ <br>\n",
    "> let $log_ma = x$, then $a = m^x$, therefore $a^n = (m^x)^n = (m^n)^x$, so $nlog_{m^n}a = log_{m^n}(a^n) = x = log_ma$"
   ]
  },
  {
   "cell_type": "code",
   "execution_count": null,
   "metadata": {},
   "outputs": [],
   "source": []
  }
 ],
 "metadata": {
  "kernelspec": {
   "display_name": "Anaconda 3.2020.02",
   "language": "python",
   "name": "uw-anaconda-3-2020-02"
  },
  "language_info": {
   "codemirror_mode": {
    "name": "ipython",
    "version": 3
   },
   "file_extension": ".py",
   "mimetype": "text/x-python",
   "name": "python",
   "nbconvert_exporter": "python",
   "pygments_lexer": "ipython3",
   "version": "3.7.6"
  }
 },
 "nbformat": 4,
 "nbformat_minor": 4
}
