{
 "cells": [
  {
   "cell_type": "markdown",
   "metadata": {},
   "source": [
    "**例题1** Given that $f(x) = 2e^{3x}$, find the inverse function $f^{-1}(x)$"
   ]
  },
  {
   "cell_type": "markdown",
   "metadata": {},
   "source": [
    "\\begin{align}\n",
    "    x &= 2e^{3y} \\\\\n",
    "    \\frac{x}{2} &= e^{3y} \\\\\n",
    "    ln(\\frac{x}{2}) &= 3y \\\\\n",
    "    \\frac{1}{3}ln(\\frac{x}{2}) &= y\n",
    "\\end{align}"
   ]
  },
  {
   "cell_type": "markdown",
   "metadata": {},
   "source": [
    "**例题2** Let $f(x) = \\sqrt{x}(x\\geq 0), g(x) = 2^x$, solve the equation $(f^{-1} \\circ g)(x) = 0.25$"
   ]
  },
  {
   "cell_type": "markdown",
   "metadata": {},
   "source": [
    "\\begin{align}\n",
    "    f(x) &= x^{\\frac{1}{2}} \\\\\n",
    "    f(x)^2 &= x \\\\\n",
    "    f^{-1}(x) &= x^2 \\\\ \\\\\n",
    "    (f^{-1} \\circ g)(x) &= 0.25 \\\\\n",
    "    g(x)^2 &= 0.25 \\\\\n",
    "    g(x) &= 0.5 \\\\\n",
    "    x &= log_2(0.5) \\\\\n",
    "    x &= -1\n",
    "\\end{align}"
   ]
  },
  {
   "cell_type": "markdown",
   "metadata": {},
   "source": [
    "**例题3** Solve the equation $log_981 + log_9{\\frac{1}{9}} + log_93 = log_9x$"
   ]
  },
  {
   "cell_type": "markdown",
   "metadata": {},
   "source": [
    "\\begin{align}\n",
    "    log_981 + log_9{\\frac{1}{9}} + log_93 - log_9x &= 0 \\\\\n",
    "    log_9{81 \\times \\frac{1}{9} \\times 3 \\div x} &= 0 \\\\\n",
    "    log_9{\\frac{27}{x}} &=0 \\\\\n",
    "    x &= 27\n",
    "\\end{align}\n"
   ]
  },
  {
   "cell_type": "markdown",
   "metadata": {},
   "source": [
    "**例题4** Solve the equation $log_{27}x = 1 - log_{27}(x-0.4)$"
   ]
  },
  {
   "cell_type": "markdown",
   "metadata": {},
   "source": [
    "\\begin{align}\n",
    "    log_27x &= log_{27}27 - log_{27}(x-0.4) \\\\\n",
    "    log_{27}x &= log_{27}(\\frac{27}{x-0.4}) \\\\\n",
    "    x = \\frac{27}{x-0.4} \\\\\n",
    "    x^2 - 0.4x - 27 &= 0 \\\\\n",
    "    x = 5.4 \\quad or \\quad x = -5 \\\\ \\\\\n",
    "    since \\quad log_{27}(x-0.4): \\\\\n",
    "    x - 0.4 &> 0\\\\\n",
    "    x &> 0.4 \\\\\n",
    "    Therefore \\quad x = 5.4\n",
    "\\end{align}\n"
   ]
  },
  {
   "cell_type": "markdown",
   "metadata": {},
   "source": [
    "**例题6** solve the simulatneous equations <br>\n",
    "> $y = 2log_3x$ <br>\n",
    "$y + 1 = log_39x$"
   ]
  },
  {
   "cell_type": "markdown",
   "metadata": {},
   "source": [
    "\\begin{align}\n",
    "    y + 1 &= log_39x \\\\\n",
    "    y &= log_39x - 1 \\\\\n",
    "    2log_3x &= log_39x - 1 \\\\\n",
    "    log_3x^2 &= log_39x - log_33 \\\\\n",
    "    log_3x^2 &= log_33x \\\\\n",
    "    x = 0 \\quad or \\quad x = 3 \\\\\n",
    "    since \\quad y = 2log_3x: \\\\\n",
    "    3x &> 0 \\\\\n",
    "    x &> 0 \\\\\n",
    "    x = 3\n",
    "\\end{align}\n"
   ]
  },
  {
   "cell_type": "code",
   "execution_count": null,
   "metadata": {},
   "outputs": [],
   "source": []
  }
 ],
 "metadata": {
  "kernelspec": {
   "display_name": "Anaconda 3.2020.02",
   "language": "python",
   "name": "uw-anaconda-3-2020-02"
  },
  "language_info": {
   "codemirror_mode": {
    "name": "ipython",
    "version": 3
   },
   "file_extension": ".py",
   "mimetype": "text/x-python",
   "name": "python",
   "nbconvert_exporter": "python",
   "pygments_lexer": "ipython3",
   "version": "3.7.6"
  }
 },
 "nbformat": 4,
 "nbformat_minor": 4
}
